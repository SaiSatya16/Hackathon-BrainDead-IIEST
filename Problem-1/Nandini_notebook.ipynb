{
 "cells": [
  {
   "cell_type": "code",
   "execution_count": 2,
   "id": "40b69446",
   "metadata": {},
   "outputs": [],
   "source": [
    "import pandas as pd\n",
    "import numpy as np\n",
    "import seaborn as sn\n",
    "import matplotlib as mpl\n",
    "import matplotlib.pyplot as plt\n",
    "%matplotlib inline\n",
    "import warnings\n",
    "warnings.filterwarnings('ignore')"
   ]
  },
  {
   "cell_type": "code",
   "execution_count": 24,
   "id": "b8d5f9c7",
   "metadata": {
    "scrolled": true
   },
   "outputs": [],
   "source": [
    "df1 = pd.read_csv('Data/Placement_Data_Full_Class.csv')\n"
   ]
  },
  {
   "cell_type": "code",
   "execution_count": 25,
   "id": "1705e2d2",
   "metadata": {},
   "outputs": [],
   "source": [
    "df=df1.copy(deep=True)"
   ]
  },
  {
   "cell_type": "code",
   "execution_count": 26,
   "id": "36ba463f",
   "metadata": {},
   "outputs": [
    {
     "data": {
      "text/html": [
       "<div>\n",
       "<style scoped>\n",
       "    .dataframe tbody tr th:only-of-type {\n",
       "        vertical-align: middle;\n",
       "    }\n",
       "\n",
       "    .dataframe tbody tr th {\n",
       "        vertical-align: top;\n",
       "    }\n",
       "\n",
       "    .dataframe thead th {\n",
       "        text-align: right;\n",
       "    }\n",
       "</style>\n",
       "<table border=\"1\" class=\"dataframe\">\n",
       "  <thead>\n",
       "    <tr style=\"text-align: right;\">\n",
       "      <th></th>\n",
       "      <th>sl_no</th>\n",
       "      <th>gender</th>\n",
       "      <th>ssc_p</th>\n",
       "      <th>ssc_b</th>\n",
       "      <th>hsc_p</th>\n",
       "      <th>hsc_b</th>\n",
       "      <th>hsc_s</th>\n",
       "      <th>degree_p</th>\n",
       "      <th>degree_t</th>\n",
       "      <th>workex</th>\n",
       "      <th>etest_p</th>\n",
       "      <th>specialisation</th>\n",
       "      <th>mba_p</th>\n",
       "      <th>status</th>\n",
       "      <th>salary</th>\n",
       "      <th>average</th>\n",
       "    </tr>\n",
       "  </thead>\n",
       "  <tbody>\n",
       "    <tr>\n",
       "      <th>0</th>\n",
       "      <td>1</td>\n",
       "      <td>M</td>\n",
       "      <td>67.00</td>\n",
       "      <td>Others</td>\n",
       "      <td>91.00</td>\n",
       "      <td>Others</td>\n",
       "      <td>Commerce</td>\n",
       "      <td>58.00</td>\n",
       "      <td>Sci&amp;Tech</td>\n",
       "      <td>No</td>\n",
       "      <td>55.0</td>\n",
       "      <td>Mkt&amp;HR</td>\n",
       "      <td>58.80</td>\n",
       "      <td>Placed</td>\n",
       "      <td>270000.0</td>\n",
       "      <td>65.960</td>\n",
       "    </tr>\n",
       "    <tr>\n",
       "      <th>1</th>\n",
       "      <td>2</td>\n",
       "      <td>M</td>\n",
       "      <td>79.33</td>\n",
       "      <td>Central</td>\n",
       "      <td>78.33</td>\n",
       "      <td>Others</td>\n",
       "      <td>Science</td>\n",
       "      <td>77.48</td>\n",
       "      <td>Sci&amp;Tech</td>\n",
       "      <td>Yes</td>\n",
       "      <td>86.5</td>\n",
       "      <td>Mkt&amp;Fin</td>\n",
       "      <td>66.28</td>\n",
       "      <td>Placed</td>\n",
       "      <td>200000.0</td>\n",
       "      <td>77.584</td>\n",
       "    </tr>\n",
       "    <tr>\n",
       "      <th>2</th>\n",
       "      <td>3</td>\n",
       "      <td>M</td>\n",
       "      <td>65.00</td>\n",
       "      <td>Central</td>\n",
       "      <td>68.00</td>\n",
       "      <td>Central</td>\n",
       "      <td>Arts</td>\n",
       "      <td>64.00</td>\n",
       "      <td>Comm&amp;Mgmt</td>\n",
       "      <td>No</td>\n",
       "      <td>75.0</td>\n",
       "      <td>Mkt&amp;Fin</td>\n",
       "      <td>57.80</td>\n",
       "      <td>Placed</td>\n",
       "      <td>250000.0</td>\n",
       "      <td>65.960</td>\n",
       "    </tr>\n",
       "    <tr>\n",
       "      <th>3</th>\n",
       "      <td>4</td>\n",
       "      <td>M</td>\n",
       "      <td>56.00</td>\n",
       "      <td>Central</td>\n",
       "      <td>52.00</td>\n",
       "      <td>Central</td>\n",
       "      <td>Science</td>\n",
       "      <td>52.00</td>\n",
       "      <td>Sci&amp;Tech</td>\n",
       "      <td>No</td>\n",
       "      <td>66.0</td>\n",
       "      <td>Mkt&amp;HR</td>\n",
       "      <td>59.43</td>\n",
       "      <td>Not Placed</td>\n",
       "      <td>NaN</td>\n",
       "      <td>57.086</td>\n",
       "    </tr>\n",
       "    <tr>\n",
       "      <th>4</th>\n",
       "      <td>5</td>\n",
       "      <td>M</td>\n",
       "      <td>85.80</td>\n",
       "      <td>Central</td>\n",
       "      <td>73.60</td>\n",
       "      <td>Central</td>\n",
       "      <td>Commerce</td>\n",
       "      <td>73.30</td>\n",
       "      <td>Comm&amp;Mgmt</td>\n",
       "      <td>No</td>\n",
       "      <td>96.8</td>\n",
       "      <td>Mkt&amp;Fin</td>\n",
       "      <td>55.50</td>\n",
       "      <td>Placed</td>\n",
       "      <td>425000.0</td>\n",
       "      <td>77.000</td>\n",
       "    </tr>\n",
       "  </tbody>\n",
       "</table>\n",
       "</div>"
      ],
      "text/plain": [
       "   sl_no gender  ssc_p    ssc_b  hsc_p    hsc_b     hsc_s  degree_p  \\\n",
       "0      1      M  67.00   Others  91.00   Others  Commerce     58.00   \n",
       "1      2      M  79.33  Central  78.33   Others   Science     77.48   \n",
       "2      3      M  65.00  Central  68.00  Central      Arts     64.00   \n",
       "3      4      M  56.00  Central  52.00  Central   Science     52.00   \n",
       "4      5      M  85.80  Central  73.60  Central  Commerce     73.30   \n",
       "\n",
       "    degree_t workex  etest_p specialisation  mba_p      status    salary  \\\n",
       "0   Sci&Tech     No     55.0         Mkt&HR  58.80      Placed  270000.0   \n",
       "1   Sci&Tech    Yes     86.5        Mkt&Fin  66.28      Placed  200000.0   \n",
       "2  Comm&Mgmt     No     75.0        Mkt&Fin  57.80      Placed  250000.0   \n",
       "3   Sci&Tech     No     66.0         Mkt&HR  59.43  Not Placed       NaN   \n",
       "4  Comm&Mgmt     No     96.8        Mkt&Fin  55.50      Placed  425000.0   \n",
       "\n",
       "   average  \n",
       "0   65.960  \n",
       "1   77.584  \n",
       "2   65.960  \n",
       "3   57.086  \n",
       "4   77.000  "
      ]
     },
     "execution_count": 26,
     "metadata": {},
     "output_type": "execute_result"
    }
   ],
   "source": [
    "df.head()"
   ]
  },
  {
   "cell_type": "code",
   "execution_count": 27,
   "id": "05803987",
   "metadata": {
    "scrolled": false
   },
   "outputs": [
    {
     "data": {
      "text/html": [
       "<div>\n",
       "<style scoped>\n",
       "    .dataframe tbody tr th:only-of-type {\n",
       "        vertical-align: middle;\n",
       "    }\n",
       "\n",
       "    .dataframe tbody tr th {\n",
       "        vertical-align: top;\n",
       "    }\n",
       "\n",
       "    .dataframe thead th {\n",
       "        text-align: right;\n",
       "    }\n",
       "</style>\n",
       "<table border=\"1\" class=\"dataframe\">\n",
       "  <thead>\n",
       "    <tr style=\"text-align: right;\">\n",
       "      <th></th>\n",
       "      <th>sl_no</th>\n",
       "      <th>ssc_p</th>\n",
       "      <th>hsc_p</th>\n",
       "      <th>degree_p</th>\n",
       "      <th>etest_p</th>\n",
       "      <th>mba_p</th>\n",
       "      <th>salary</th>\n",
       "      <th>average</th>\n",
       "    </tr>\n",
       "  </thead>\n",
       "  <tbody>\n",
       "    <tr>\n",
       "      <th>count</th>\n",
       "      <td>215.000000</td>\n",
       "      <td>215.000000</td>\n",
       "      <td>215.000000</td>\n",
       "      <td>215.000000</td>\n",
       "      <td>215.000000</td>\n",
       "      <td>215.000000</td>\n",
       "      <td>148.000000</td>\n",
       "      <td>215.000000</td>\n",
       "    </tr>\n",
       "    <tr>\n",
       "      <th>mean</th>\n",
       "      <td>108.000000</td>\n",
       "      <td>67.303395</td>\n",
       "      <td>66.333163</td>\n",
       "      <td>66.370186</td>\n",
       "      <td>72.100558</td>\n",
       "      <td>62.278186</td>\n",
       "      <td>288655.405405</td>\n",
       "      <td>66.877098</td>\n",
       "    </tr>\n",
       "    <tr>\n",
       "      <th>std</th>\n",
       "      <td>62.209324</td>\n",
       "      <td>10.827205</td>\n",
       "      <td>10.897509</td>\n",
       "      <td>7.358743</td>\n",
       "      <td>13.275956</td>\n",
       "      <td>5.833385</td>\n",
       "      <td>93457.452420</td>\n",
       "      <td>6.720558</td>\n",
       "    </tr>\n",
       "    <tr>\n",
       "      <th>min</th>\n",
       "      <td>1.000000</td>\n",
       "      <td>40.890000</td>\n",
       "      <td>37.000000</td>\n",
       "      <td>50.000000</td>\n",
       "      <td>50.000000</td>\n",
       "      <td>51.210000</td>\n",
       "      <td>200000.000000</td>\n",
       "      <td>52.022000</td>\n",
       "    </tr>\n",
       "    <tr>\n",
       "      <th>25%</th>\n",
       "      <td>54.500000</td>\n",
       "      <td>60.600000</td>\n",
       "      <td>60.900000</td>\n",
       "      <td>61.000000</td>\n",
       "      <td>60.000000</td>\n",
       "      <td>57.945000</td>\n",
       "      <td>240000.000000</td>\n",
       "      <td>62.261000</td>\n",
       "    </tr>\n",
       "    <tr>\n",
       "      <th>50%</th>\n",
       "      <td>108.000000</td>\n",
       "      <td>67.000000</td>\n",
       "      <td>65.000000</td>\n",
       "      <td>66.000000</td>\n",
       "      <td>71.000000</td>\n",
       "      <td>62.000000</td>\n",
       "      <td>265000.000000</td>\n",
       "      <td>66.228000</td>\n",
       "    </tr>\n",
       "    <tr>\n",
       "      <th>75%</th>\n",
       "      <td>161.500000</td>\n",
       "      <td>75.700000</td>\n",
       "      <td>73.000000</td>\n",
       "      <td>72.000000</td>\n",
       "      <td>83.500000</td>\n",
       "      <td>66.255000</td>\n",
       "      <td>300000.000000</td>\n",
       "      <td>71.306000</td>\n",
       "    </tr>\n",
       "    <tr>\n",
       "      <th>max</th>\n",
       "      <td>215.000000</td>\n",
       "      <td>89.400000</td>\n",
       "      <td>97.700000</td>\n",
       "      <td>91.000000</td>\n",
       "      <td>98.000000</td>\n",
       "      <td>77.890000</td>\n",
       "      <td>940000.000000</td>\n",
       "      <td>84.894000</td>\n",
       "    </tr>\n",
       "  </tbody>\n",
       "</table>\n",
       "</div>"
      ],
      "text/plain": [
       "            sl_no       ssc_p       hsc_p    degree_p     etest_p       mba_p  \\\n",
       "count  215.000000  215.000000  215.000000  215.000000  215.000000  215.000000   \n",
       "mean   108.000000   67.303395   66.333163   66.370186   72.100558   62.278186   \n",
       "std     62.209324   10.827205   10.897509    7.358743   13.275956    5.833385   \n",
       "min      1.000000   40.890000   37.000000   50.000000   50.000000   51.210000   \n",
       "25%     54.500000   60.600000   60.900000   61.000000   60.000000   57.945000   \n",
       "50%    108.000000   67.000000   65.000000   66.000000   71.000000   62.000000   \n",
       "75%    161.500000   75.700000   73.000000   72.000000   83.500000   66.255000   \n",
       "max    215.000000   89.400000   97.700000   91.000000   98.000000   77.890000   \n",
       "\n",
       "              salary     average  \n",
       "count     148.000000  215.000000  \n",
       "mean   288655.405405   66.877098  \n",
       "std     93457.452420    6.720558  \n",
       "min    200000.000000   52.022000  \n",
       "25%    240000.000000   62.261000  \n",
       "50%    265000.000000   66.228000  \n",
       "75%    300000.000000   71.306000  \n",
       "max    940000.000000   84.894000  "
      ]
     },
     "execution_count": 27,
     "metadata": {},
     "output_type": "execute_result"
    }
   ],
   "source": [
    "df.describe()"
   ]
  },
  {
   "cell_type": "code",
   "execution_count": 28,
   "id": "5aa911c3",
   "metadata": {
    "scrolled": true
   },
   "outputs": [
    {
     "data": {
      "image/png": "[encoded data removed]",
      "text/plain": [
       "<Figure size 432x288 with 1 Axes>"
      ]
     },
     "metadata": {},
     "output_type": "display_data"
    }
   ],
   "source": [
    "plt.hist(df['salary'])\n",
    "plt.title(\"Salary based on specialization\")\n",
    "plt.xlabel(\"specialisation\")\n",
    "plt.ylabel(\"salary\")\n",
    "plt.show()"
   ]
  },
  {
   "cell_type": "code",
   "execution_count": 29,
   "id": "e5fec3eb",
   "metadata": {},
   "outputs": [
    {
     "data": {
      "text/plain": [
       "sl_no              0\n",
       "gender             0\n",
       "ssc_p              0\n",
       "ssc_b              0\n",
       "hsc_p              0\n",
       "hsc_b              0\n",
       "hsc_s              0\n",
       "degree_p           0\n",
       "degree_t           0\n",
       "workex             0\n",
       "etest_p            0\n",
       "specialisation     0\n",
       "mba_p              0\n",
       "status             0\n",
       "salary            67\n",
       "average            0\n",
       "dtype: int64"
      ]
     },
     "execution_count": 29,
     "metadata": {},
     "output_type": "execute_result"
    }
   ],
   "source": [
    "df.isna().sum()"
   ]
  },
  {
   "cell_type": "code",
   "execution_count": 30,
   "id": "7570d572",
   "metadata": {},
   "outputs": [
    {
     "data": {
      "text/plain": [
       "0"
      ]
     },
     "execution_count": 30,
     "metadata": {},
     "output_type": "execute_result"
    }
   ],
   "source": [
    "df.duplicated().sum()"
   ]
  },
  {
   "cell_type": "code",
   "execution_count": 31,
   "id": "5a94e161",
   "metadata": {
    "scrolled": true
   },
   "outputs": [
    {
     "data": {
      "text/plain": [
       "sl_no             215\n",
       "gender              2\n",
       "ssc_p             103\n",
       "ssc_b               2\n",
       "hsc_p              97\n",
       "hsc_b               2\n",
       "hsc_s               3\n",
       "degree_p           89\n",
       "degree_t            3\n",
       "workex              2\n",
       "etest_p           100\n",
       "specialisation      2\n",
       "mba_p             205\n",
       "status              2\n",
       "salary             45\n",
       "average           213\n",
       "dtype: int64"
      ]
     },
     "execution_count": 31,
     "metadata": {},
     "output_type": "execute_result"
    }
   ],
   "source": [
    "df.nunique()"
   ]
  },
  {
   "cell_type": "code",
   "execution_count": 32,
   "id": "58222fb5",
   "metadata": {},
   "outputs": [
    {
     "name": "stdout",
     "output_type": "stream",
     "text": [
      "Categories in 'gender' variable:      ['M' 'F']\n",
      "Categories in 'ssc_b' variable:      ['Others' 'Central']\n",
      "Categories in 'hsc_b' variable:      ['Others' 'Central']\n",
      "Categories in 'hsc_s' variable:      ['Commerce' 'Science' 'Arts']\n",
      "Categories in 'degree_t' variable:      ['Sci&Tech' 'Comm&Mgmt' 'Others']\n",
      "Categories in 'specialisation' variable:      ['Mkt&HR' 'Mkt&Fin']\n",
      "Categories in 'salary' variable:      [270000. 200000. 250000.     nan 425000. 252000. 231000. 260000. 218000.\n",
      " 300000. 236000. 265000. 393000. 360000. 240000. 350000. 278000. 320000.\n",
      " 411000. 287000. 204000. 450000. 216000. 220000. 268000. 275000. 336000.\n",
      " 230000. 500000. 400000. 210000. 420000. 380000. 280000. 276000. 940000.\n",
      " 225000. 233000. 690000. 340000. 255000. 285000. 290000. 650000. 264000.\n",
      " 295000.]\n"
     ]
    }
   ],
   "source": [
    "print(\"Categories in 'gender' variable:     \",end=\" \" )\n",
    "print(df['gender'].unique())\n",
    "print(\"Categories in 'ssc_b' variable:     \",end=\" \" )\n",
    "print(df['ssc_b'].unique())\n",
    "print(\"Categories in 'hsc_b' variable:     \",end=\" \" )\n",
    "print(df['hsc_b'].unique())\n",
    "print(\"Categories in 'hsc_s' variable:     \",end=\" \" )\n",
    "print(df['hsc_s'].unique())\n",
    "print(\"Categories in 'degree_t' variable:     \",end=\" \" )\n",
    "print(df['degree_t'].unique())\n",
    "print(\"Categories in 'specialisation' variable:     \",end=\" \" )\n",
    "print(df['specialisation'].unique())\n",
    "print(\"Categories in 'salary' variable:     \",end=\" \" )\n",
    "print(df['salary'].unique())"
   ]
  },
  {
   "cell_type": "code",
   "execution_count": 33,
   "id": "523837d9",
   "metadata": {},
   "outputs": [
    {
     "name": "stdout",
     "output_type": "stream",
     "text": [
      "No of students placed:  148\n"
     ]
    }
   ],
   "source": [
    "placed=df[df['status'] == 'Placed']['sl_no'].count()\n",
    "print(\"No of students placed: \",placed)"
   ]
  },
  {
   "cell_type": "code",
   "execution_count": 34,
   "id": "e327e10a",
   "metadata": {},
   "outputs": [
    {
     "data": {
      "text/plain": [
       "<AxesSubplot:xlabel='status', ylabel='count'>"
      ]
     },
     "execution_count": 34,
     "metadata": {},
     "output_type": "execute_result"
    },
    {
     "data": {
      "image/png": "[encoded data removed]",
      "text/plain": [
       "<Figure size 432x288 with 1 Axes>"
      ]
     },
     "metadata": {},
     "output_type": "display_data"
    }
   ],
   "source": [
    "sn.set_style('whitegrid')\n",
    "sn.countplot(x='status',hue='ssc_b',data=df)"
   ]
  },
  {
   "cell_type": "code",
   "execution_count": 71,
   "id": "e28be6e7",
   "metadata": {},
   "outputs": [
    {
     "data": {
      "text/plain": [
       "<AxesSubplot:xlabel='status', ylabel='count'>"
      ]
     },
     "execution_count": 71,
     "metadata": {},
     "output_type": "execute_result"
    },
    {
     "data": {
      "image/png": "[encoded data removed]",
      "text/plain": [
       "<Figure size 432x288 with 1 Axes>"
      ]
     },
     "metadata": {},
     "output_type": "display_data"
    }
   ],
   "source": [
    "sn.set_style('whitegrid')\n",
    "sn.countplot(x='status',hue='hsc_b',data=df)"
   ]
  },
  {
   "cell_type": "code",
   "execution_count": 36,
   "id": "3490c878",
   "metadata": {},
   "outputs": [
    {
     "data": {
      "image/png": "[encoded data removed]",
      "text/plain": [
       "<Figure size 432x288 with 1 Axes>"
      ]
     },
     "metadata": {},
     "output_type": "display_data"
    }
   ],
   "source": [
    "df.plot(kind =\"scatter\",\n",
    " x ='specialisation',\n",
    " y ='salary')\n",
    "plt.show() "
   ]
  },
  {
   "cell_type": "code",
   "execution_count": 37,
   "id": "a09646a2",
   "metadata": {},
   "outputs": [
    {
     "data": {
      "text/plain": [
       "<AxesSubplot:xlabel='status', ylabel='count'>"
      ]
     },
     "execution_count": 37,
     "metadata": {},
     "output_type": "execute_result"
    },
    {
     "data": {
      "image/png": "[encoded data removed]",
      "text/plain": [
       "<Figure size 432x288 with 1 Axes>"
      ]
     },
     "metadata": {},
     "output_type": "display_data"
    }
   ],
   "source": [
    "sn.set_style('whitegrid')\n",
    "sn.countplot(x='status',hue='degree_t',data=df)"
   ]
  },
  {
   "cell_type": "code",
   "execution_count": 38,
   "id": "8c98326b",
   "metadata": {},
   "outputs": [
    {
     "data": {
      "text/plain": [
       "<AxesSubplot:xlabel='specialisation', ylabel='count'>"
      ]
     },
     "execution_count": 38,
     "metadata": {},
     "output_type": "execute_result"
    },
    {
     "data": {
      "image/png": "[encoded data removed]",
      "text/plain": [
       "<Figure size 432x288 with 1 Axes>"
      ]
     },
     "metadata": {},
     "output_type": "display_data"
    }
   ],
   "source": [
    "sn.set_style('whitegrid')\n",
    "sn.countplot(x='specialisation',hue=\"status\",data=df)"
   ]
  },
  {
   "cell_type": "code",
   "execution_count": 50,
   "id": "a1a75aeb",
   "metadata": {},
   "outputs": [
    {
     "data": {
      "text/plain": [
       "<AxesSubplot:xlabel='average', ylabel='count'>"
      ]
     },
     "execution_count": 50,
     "metadata": {},
     "output_type": "execute_result"
    },
    {
     "data": {
      "image/png": "[encoded data removed]",
      "text/plain": [
       "<Figure size 432x288 with 1 Axes>"
      ]
     },
     "metadata": {},
     "output_type": "display_data"
    }
   ],
   "source": [
    "sn.set_style('whitegrid')\n",
    "sn.countplot(x=\"average\",hue=\"status\",data=df)"
   ]
  },
  {
   "cell_type": "code",
   "execution_count": 44,
   "id": "8e794439",
   "metadata": {},
   "outputs": [
    {
     "data": {
      "text/plain": [
       "<AxesSubplot:xlabel='average', ylabel='count'>"
      ]
     },
     "execution_count": 44,
     "metadata": {},
     "output_type": "execute_result"
    },
    {
     "data": {
      "image/png": "[encoded data removed]",
      "text/plain": [
       "<Figure size 432x288 with 1 Axes>"
      ]
     },
     "metadata": {},
     "output_type": "display_data"
    }
   ],
   "source": [
    "sn.set_style('whitegrid')\n",
    "sn.countplot(x=\"average\",data=df)"
   ]
  },
  {
   "cell_type": "raw",
   "id": "d2e65dfe",
   "metadata": {},
   "source": []
  },
  {
   "cell_type": "code",
   "execution_count": 48,
   "id": "fee69642",
   "metadata": {},
   "outputs": [
    {
     "name": "stdout",
     "output_type": "stream",
     "text": [
      "              average\n",
      "status               \n",
      "Not Placed   4130.878\n",
      "Placed      10247.698\n"
     ]
    }
   ],
   "source": [
    "grpby_avg=df.groupby('status')[['average']].sum()\n",
    "print(grpby_avg.sort_values(by=['average']))"
   ]
  },
  {
   "cell_type": "code",
   "execution_count": 58,
   "id": "3f3c54e7",
   "metadata": {},
   "outputs": [
    {
     "data": {
      "image/png": "[encoded data removed]",
      "text/plain": [
       "<Figure size 648x432 with 1 Axes>"
      ]
     },
     "metadata": {},
     "output_type": "display_data"
    }
   ],
   "source": [
    "plt.figure(figsize=(9,6))\n",
    "plt.bar(x=df['specialisation'],\n",
    "        height=df['average'])\n",
    "plt.show()"
   ]
  },
  {
   "cell_type": "code",
   "execution_count": 68,
   "id": "664fc606",
   "metadata": {
    "scrolled": true
   },
   "outputs": [
    {
     "data": {
      "image/png": "[encoded data removed]",
      "text/plain": [
       "<Figure size 360x720 with 1 Axes>"
      ]
     },
     "metadata": {},
     "output_type": "display_data"
    }
   ],
   "source": [
    "plt.figure(figsize=(5,10))\n",
    "plt.bar(x=df['status'],\n",
    "        height=df['average'])\n",
    "plt.show()"
   ]
  },
  {
   "cell_type": "code",
   "execution_count": 70,
   "id": "8c0b6e8d",
   "metadata": {},
   "outputs": [
    {
     "data": {
      "text/plain": [
       "<AxesSubplot:xlabel='workex', ylabel='count'>"
      ]
     },
     "execution_count": 70,
     "metadata": {},
     "output_type": "execute_result"
    },
    {
     "data": {
      "image/png": "[encoded data removed]",
      "text/plain": [
       "<Figure size 432x288 with 1 Axes>"
      ]
     },
     "metadata": {},
     "output_type": "display_data"
    }
   ],
   "source": [
    "sn.set_style('whitegrid')\n",
    "sn.countplot(x='workex',hue=\"status\",data=df)"
   ]
  },
  {
   "cell_type": "code",
   "execution_count": 72,
   "id": "8624df96",
   "metadata": {},
   "outputs": [
    {
     "data": {
      "text/plain": [
       "<AxesSubplot:xlabel='gender', ylabel='count'>"
      ]
     },
     "execution_count": 72,
     "metadata": {},
     "output_type": "execute_result"
    },
    {
     "data": {
      "image/png": "[encoded data removed]",
      "text/plain": [
       "<Figure size 432x288 with 1 Axes>"
      ]
     },
     "metadata": {},
     "output_type": "display_data"
    }
   ],
   "source": [
    "sn.set_style('whitegrid')\n",
    "sn.countplot(x='gender',hue=\"status\",data=df)"
   ]
  },
  {
   "cell_type": "code",
   "execution_count": 73,
   "id": "75650959",
   "metadata": {},
   "outputs": [
    {
     "data": {
      "text/plain": [
       "<AxesSubplot:xlabel='hsc_s', ylabel='count'>"
      ]
     },
     "execution_count": 73,
     "metadata": {},
     "output_type": "execute_result"
    },
    {
     "data": {
      "image/png": "[encoded data removed]",
      "text/plain": [
       "<Figure size 432x288 with 1 Axes>"
      ]
     },
     "metadata": {},
     "output_type": "display_data"
    }
   ],
   "source": [
    "\n"
   ]
  },
  {
   "cell_type": "code",
   "execution_count": 74,
   "id": "c089b7f2",
   "metadata": {},
   "outputs": [
    {
     "data": {
      "text/plain": [
       "<AxesSubplot:xlabel='average', ylabel='count'>"
      ]
     },
     "execution_count": 74,
     "metadata": {},
     "output_type": "execute_result"
    },
    {
     "data": {
      "image/png": "[encoded data removed]",
      "text/plain": [
       "<Figure size 432x288 with 1 Axes>"
      ]
     },
     "metadata": {},
     "output_type": "display_data"
    }
   ],
   "source": []
  },
  {
   "cell_type": "code",
   "execution_count": null,
   "id": "cb19eaeb",
   "metadata": {},
   "outputs": [],
   "source": []
  }
 ],
 "metadata": {
  "kernelspec": {
   "display_name": "Python 3 (ipykernel)",
   "language": "python",
   "name": "python3"
  },
  "language_info": {
   "codemirror_mode": {
    "name": "ipython",
    "version": 3
   },
   "file_extension": ".py",
   "mimetype": "text/x-python",
   "name": "python",
   "nbconvert_exporter": "python",
   "pygments_lexer": "ipython3",
   "version": "3.9.7"
  }
 },
 "nbformat": 4,
 "nbformat_minor": 5
}
